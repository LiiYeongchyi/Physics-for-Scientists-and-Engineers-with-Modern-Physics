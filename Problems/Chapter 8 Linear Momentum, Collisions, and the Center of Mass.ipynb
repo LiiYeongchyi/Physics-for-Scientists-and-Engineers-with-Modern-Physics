{
 "cells": [
  {
   "cell_type": "markdown",
   "id": "37a721f1",
   "metadata": {},
   "source": [
    "# Chapter 8: Linear Momentum, Collisions, and the Center of Mass"
   ]
  },
  {
   "cell_type": "markdown",
   "id": "b4dccf23",
   "metadata": {},
   "source": [
    "## Problems"
   ]
  },
  {
   "cell_type": "markdown",
   "id": "8ba92b86",
   "metadata": {},
   "source": [
    "### 8-1 Momentum and Its Conservation"
   ]
  },
  {
   "cell_type": "markdown",
   "metadata": {},
   "source": []
  },
  {
   "cell_type": "markdown",
   "metadata": {},
   "source": []
  },
  {
   "cell_type": "markdown",
   "metadata": {},
   "source": []
  },
  {
   "cell_type": "markdown",
   "metadata": {},
   "source": [
    "### 8-2 Collisions and Impulse"
   ]
  },
  {
   "cell_type": "markdown",
   "metadata": {},
   "source": []
  },
  {
   "cell_type": "markdown",
   "metadata": {},
   "source": []
  },
  {
   "cell_type": "markdown",
   "metadata": {},
   "source": []
  },
  {
   "cell_type": "markdown",
   "metadata": {},
   "source": [
    "### 8-3 Perfectly Inelastic Collisions; Explosions"
   ]
  },
  {
   "cell_type": "markdown",
   "metadata": {},
   "source": []
  },
  {
   "cell_type": "markdown",
   "metadata": {},
   "source": []
  },
  {
   "cell_type": "markdown",
   "metadata": {},
   "source": []
  },
  {
   "cell_type": "markdown",
   "metadata": {},
   "source": [
    "### 8-4 Elastic and Inelastic Collisions"
   ]
  },
  {
   "cell_type": "markdown",
   "metadata": {},
   "source": []
  },
  {
   "cell_type": "markdown",
   "metadata": {},
   "source": []
  },
  {
   "cell_type": "markdown",
   "metadata": {},
   "source": [
    "#### 43. \n",
    "Specify that vertical down is the positive direction.   \n",
    "(a) $(M+m)gh=\\dfrac{1}{2}(M+m)v_{\\mathrm{s}1}^2, v_{\\mathrm{s}1}=\\sqrt{2gh}$;   \n",
    "(b) $M \\ll M_{\\mathrm{earth}}$, so $v_{\\mathrm{s}2}=-\\sqrt{2gh}$;   \n",
    "(c) $v_{\\mathrm{s}2}=-\\sqrt{2gh}, v_{\\mathrm{m}2}=\\sqrt{2gh}$; After collision, $v_{\\mathrm{m}3}=\\dfrac{2M}{M+m}v_{\\mathrm{s}2}+\\dfrac{m-M}{M+m}v_{\\mathrm{m}2}=\\dfrac{m-3M}{M+m}\\sqrt{2gh}$.   \n",
    "(d) $v_{\\mathrm{m}3}^2=2gh_1, h_1=\\left(\\dfrac{m-3M}{M+m}\\right)^2h$.   \n",
    "(e) $h_1=\\left(\\dfrac{m-3M}{M+m}\\right)^2h=\\left(\\dfrac{\\frac{m}{M}-3}{1+\\frac{m}{M}}\\right)^2h, \\displaystyle\\lim_{\\frac{m}{M}\\to 0}h_1=9h$."
   ]
  },
  {
   "cell_type": "markdown",
   "metadata": {},
   "source": [
    "### 8-5 Elastic Collisions in Space"
   ]
  },
  {
   "cell_type": "markdown",
   "metadata": {},
   "source": []
  },
  {
   "cell_type": "markdown",
   "metadata": {},
   "source": [
    "#### 54. \n",
    "> (III) A proton of mass $m$ and kinetic energy $K$ scatters elastically from an alpha particle at rest (with mass four times that of the proton). The proton is deflected at $30\\degree$ from its original direction. (a) At what angle does the alpha particle recoil? (b) Draw a momentum diagram of the collision. (c) What are the final energies of the two particles?\n",
    "\n",
    "(a) $210\\degree$?   \n",
    "(b) I don't want to draw.   \n",
    "(c) $mv_1=3mv_2,K=\\dfrac{1}{2}mv_1^2$, so $K_{\\mathrm{sum}}=K+\\dfrac{1}{2}(3m)v_2^2=\\dfrac{4}{3}K$."
   ]
  },
  {
   "cell_type": "markdown",
   "metadata": {},
   "source": [
    "### 8-6 Center of Mass"
   ]
  },
  {
   "cell_type": "markdown",
   "metadata": {},
   "source": []
  },
  {
   "cell_type": "markdown",
   "metadata": {},
   "source": []
  },
  {
   "cell_type": "markdown",
   "metadata": {},
   "source": [
    "### 8-7 Rocket Motion"
   ]
  },
  {
   "cell_type": "markdown",
   "metadata": {},
   "source": []
  },
  {
   "cell_type": "markdown",
   "metadata": {},
   "source": [
    "#### 80.\n",
    "> (III) Because the final velocity of rockets is limited by the exhaust velocity and by the mass ratio of total mass to the rest of the rocket minus the fuel, engineers have developed multistage rockets in which the fuel tank of each stage is discarded before the next stage is ignited. Consider a two-stage rocket for which $m_0$ is the total mass of the rocket at liftoff, $m_1$ is the mass of the fuel in the first stage, $m'_1$ is the mass of the first stage that is discarded, and $m_2$ is the mass of the second-stage fuel. Find an equation that gives the final velocity of the rocket; assume that gravity is constant.\n",
    "\n",
    "**First stage:** From the textbook we find $v=u_{\\mathrm{ex}}\\ln\\left(\\dfrac{m_0}{m}\\right)-gt$, where $u_{\\mathrm{ex}}$ is the exhaust speed of the hot gases. Assume that when the first-stage fuel just runs out, the time passed is $t_1$ and the velocity is $v_1$. So $v_1=u_{\\mathrm{ex}}\\ln\\left(\\dfrac{m_0}{m_0-m_1}\\right)-gt_1$.   \n",
    "**Discarding:** The velocity does not change (if the time of this is neglected; though this time is not neglected, the final answer keeps correct).    \n",
    "**Second stage:** $v=u_{\\mathrm{ex}}(c-\\ln m)-gt$, when $m=m_0-m_1-m'_1$, $v=v_1$, so the constant $c=\\dfrac{v_1}{u_{\\mathrm{ex}}}+\\ln (m_0-m_1-m'_1)$, the $v-t$ formula is $v=v_1+u_{\\mathrm{ex}}\\ln\\left(\\dfrac{m_0-m_1-m'_1}{m}\\right)-gt$ ($t$ restarts from $0$). Assume that this stage lasts for $t_2$, the total time of acceleration is $t_{\\mathrm{sum}}$; finally, the velocity $v_2=v_1+u_{\\mathrm{ex}}\\ln\\left(\\dfrac{m_0-m_1-m'_1}{m_0-m_1-m'_1-m_2}\\right)-gt_2=u_{\\mathrm{ex}}\\ln\\dfrac{m_0(m_0-m_1-m'_1)}{(m_0-m_1)(m_0-m_1-m'_1-m_2)}-gt_{\\mathrm{sum}}$. "
   ]
  },
  {
   "cell_type": "markdown",
   "metadata": {},
   "source": [
    "### General Problems"
   ]
  },
  {
   "cell_type": "markdown",
   "metadata": {},
   "source": []
  },
  {
   "cell_type": "markdown",
   "metadata": {},
   "source": []
  },
  {
   "cell_type": "markdown",
   "metadata": {},
   "source": []
  },
  {
   "cell_type": "markdown",
   "metadata": {},
   "source": []
  },
  {
   "cell_type": "markdown",
   "metadata": {},
   "source": []
  },
  {
   "cell_type": "markdown",
   "metadata": {},
   "source": [
    "#### 86. \n",
    "> (II) A boxcar of length $9~\\mathrm{m}$ and height $3.0~\\mathrm{m}$ is at rest on frictionless rails. Inside the boxcar, whose empty mass is $4~200~\\mathrm{kg}$, a tank containing $1~800~\\mathrm{kg}$ of water is located at one end. The tank is $1.5~\\mathrm{m}$ long and $2.0~\\mathrm{m}$ high. At some point, the walls of the tank start to leak and the water fills the floor of the boxcar uniformly. Assuming that all the water stays in the boxcar, describe how the breakage of the tank manifests itself to an outside observer. "
   ]
  },
  {
   "cell_type": "markdown",
   "metadata": {},
   "source": []
  },
  {
   "cell_type": "markdown",
   "metadata": {},
   "source": []
  },
  {
   "cell_type": "markdown",
   "metadata": {},
   "source": []
  },
  {
   "cell_type": "markdown",
   "metadata": {},
   "source": [
    "#### 90. \n",
    "> (III) Two identical spherical billiard balls each with a radius of $3~\\mathrm{cm}$ move toward each other with velocities $(1.5~\\mathrm{m/s})\\hat{i}$ and $(-1.1~\\mathrm{m/s})\\hat{i}$. The center of one of them moves along the $+x$-axis ($y = 0~\\mathrm{m}$), and the center of the other one moves in the $-x$-direction, $1.0~\\mathrm{cm}$ below the $x$-axis ($y = -1.0~\\mathrm{cm}$). Assuming that the collision is perfectly elastic. what are the final velocities of the two billiard balls? Pretend that the objects slide without friction. Note that the impulse is directed along the line that joins the two centers at the moment of collision.   \n",
    "\n",
    "(a)"
   ]
  },
  {
   "cell_type": "markdown",
   "metadata": {},
   "source": []
  }
 ],
 "metadata": {
  "interpreter": {
   "hash": "b89b5cfaba6639976dc87ff2fec6d58faec662063367e2c229c520fe71072417"
  },
  "kernelspec": {
   "display_name": "xeus C++14",
   "language": "python",
   "name": "python3"
  },
  "language_info": {
   "name": "python",
   "version": "3.10.2"
  },
  "orig_nbformat": 4
 },
 "nbformat": 4,
 "nbformat_minor": 2
}
