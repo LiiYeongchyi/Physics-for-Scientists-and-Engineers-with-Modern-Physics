{
 "cells": [
  {
   "cell_type": "markdown",
   "metadata": {},
   "source": [
    "# Chapter 1: Tooling Up"
   ]
  },
  {
   "cell_type": "markdown",
   "metadata": {},
   "source": [
    "## Problems"
   ]
  },
  {
   "cell_type": "markdown",
   "metadata": {},
   "source": [
    "### 1-1 Scientific Notation"
   ]
  },
  {
   "cell_type": "markdown",
   "metadata": {},
   "source": []
  },
  {
   "cell_type": "markdown",
   "metadata": {},
   "source": []
  },
  {
   "cell_type": "markdown",
   "metadata": {},
   "source": [
    "### 1-2 Length, Time, and Mass"
   ]
  },
  {
   "cell_type": "markdown",
   "metadata": {},
   "source": []
  },
  {
   "cell_type": "markdown",
   "metadata": {},
   "source": []
  },
  {
   "cell_type": "markdown",
   "metadata": {},
   "source": [
    "### 1-3 Accuracy and Significant Figures"
   ]
  },
  {
   "cell_type": "markdown",
   "metadata": {},
   "source": []
  },
  {
   "cell_type": "markdown",
   "metadata": {},
   "source": [
    "#### 21. \n",
    "> (III) If you want to know the area of a circle to $10$ percent accuracy, how accurately should you measure the diameter of the circle?\n",
    "\n",
    "Five points of view:  \n",
    "1. $S=\\dfrac{\\pi d^2}{4}$, so $d=2\\sqrt{\\dfrac{S}{\\pi}}$. If $\\dfrac{9}{10}S_0\\le S\\le \\dfrac{11}{10}S_0$, then $\\sqrt{\\dfrac{9}{10}}r_0\\le r\\le \\sqrt{\\dfrac{11}{10}}r_0$, which is aproximately $94.87\\%\\sim 104.88\\%$ of $r_0$. So you should measure the diameter of the circle with $5\\%$ accuracy.  \n",
    "2. (Textbook P10) *If $P_1$ and $P_2$ are the percentage uncertainties of two quantities being multiplied (or divided), the net uncertainty is $\\sqrt{P_1^2+P_2^2}$.* Here $S\\propto d^2$, so $\\sqrt{P_d^2+P_d^2}=\\sqrt{2P_d^2}=10\\%, P_d=\\dfrac{\\sqrt{2}}{20}\\approx 7\\%$.  \n",
    "3. In the textbook, just after the sentence above, it says *if $P_1$ and $P_2$ are about the same size, we can more simply get an ***approximate*** idea of the percentage uncertainty of the product by adding the percentage uncertainties.* So $P_d+P_d=2P_d=10\\%$, the uncertainty of the diameter should be less than $5\\%$.  \n",
    "4. Actually, the formulae in article 2 and 3 applies when two variables are independent of each other. Here they are the same (**not independent at all!**). The formula $P=\\sqrt{P_1^2+P_2^2}$ adds errors \"in quadrature\" assuming it is unlikely that in a single measurement both independent quantities will error in the same \"direction\" to the maximum degrees. But in our case two diameters are $100\\%$ correlated, so a better estimate is to just add: $P=P_d+P_d=2P_d=10\\%$, so $P_d=5\\%$.\n",
    "5. Consider the \"uncertainty\" in a quantity to be the *standard deviation* of the value of a group of identically prepared measurements of this quantity. Neglecting correlations or assuming independent variables yields a common formula among engineers and experimental scientists to calculate error propagation, the variance formula: $$s_{f}={\\sqrt {\\left({\\frac {\\partial f}{\\partial x}}\\right)^{2}s_{x}^{2}+\\left({\\frac {\\partial f}{\\partial y}}\\right)^{2}s_{y}^{2}+\\left({\\frac {\\partial f}{\\partial z}}\\right)^{2}s_{z}^{2}+\\cdots }}$$\n",
    "where $s_{f}$ represents the standard deviation of the function $f$, $s_{x}$ represents the standard deviation of $x$, $s_{y}$ represents the standard deviation of $y$, and so forth.  \n",
    "Then $S=\\dfrac{\\pi d^2}{4}\\Rightarrow \\dfrac{\\partial S}{\\partial d}=\\dfrac{\\pi d}{2}=\\dfrac{2S}{d}\\Rightarrow s_S=\\dfrac{2\\bar{S}}{\\bar{d}}s_d\\Rightarrow \\dfrac{s_S}{\\bar{S}}=2\\dfrac{s_d}{\\bar{d}}\\Rightarrow P_S=2P_d$, where $\\bar{d}$ is the mean value for the measurement of $d$ and $\\bar{S}=\\dfrac{\\pi \\bar{d}^2}{4}$. So $P_d=\\dfrac{P_S}{2}=5\\%$."
   ]
  },
  {
   "cell_type": "markdown",
   "metadata": {},
   "source": [
    "#### 22. \n",
    "> (III) Consider the infinite series $\\displaystyle\\sum_{n=0}^\\infty \\frac{x^n}{n!}$. [The symbol $n!$ ($n$ factorial) means the product $1\\times 2\\times 3\\times\\cdots\\times n$. By definition, $0! = 1$.] If $x = 0.100~000$, how many terms in the series suffice to give a result correct to six significant figures?\n",
    "\n",
    "Firstly, when $x = 0.100~000$, $\\displaystyle\\sum_{n=0}^\\infty \\frac{x^n}{n!}=\\sum_{n=0}^\\infty \\frac{1}{n! 10^n}<\\sum_{n=0}^\\infty \\frac{1}{10^n}=\\frac{10}{9}=1.111~\\ldots$, so the six significant figures include one digit in the integer part and five after decimal point. We need to keep terms until the next term $+$ residuals from terms kept is $<0.000~005$, so rounding will not affect the 6th significant figure. $\\dfrac{1}{3! 10^3}=\\dfrac{1}{6~000}=0.000~166~666~\\ldots, \\dfrac{1}{4! 10^4}=\\dfrac{1}{240~000}=0.000~004~166~\\ldots\\quad\\!$, so we need the former $4$ terms.  \n",
    "\n",
    "The code below shows that the answer is correct. "
   ]
  },
  {
   "cell_type": "code",
   "execution_count": 1,
   "metadata": {},
   "outputs": [
    {
     "name": "stdout",
     "output_type": "stream",
     "text": [
      "n = 0 \tsum = 1\n",
      "n = 1 \tsum = 1.1\n",
      "n = 2 \tsum = 1.105\n",
      "n = 3 \tsum = 1.1051666666666666\n",
      "n = 4 \tsum = 1.1051708333333332\n"
     ]
    }
   ],
   "source": [
    "n = 1\n",
    "sum = 1\n",
    "item0 = 1 # the previous item\n",
    "item1 = 1 # the item now\n",
    "Active = True # control the loop\n",
    "print(\"n = 0 \\tsum = 1\")\n",
    "while Active:\n",
    "    item1 = item0 / 10 / n\n",
    "    sum += item1\n",
    "    print(\"n =\", n, \"\\tsum =\", sum)\n",
    "    if round(sum, 5) == round(sum - item1, 5):\n",
    "        Active = False\n",
    "    item0 = item1\n",
    "    n += 1"
   ]
  },
  {
   "cell_type": "markdown",
   "metadata": {},
   "source": [
    "### 1-4 Dimensional Analysis"
   ]
  },
  {
   "cell_type": "markdown",
   "metadata": {},
   "source": []
  },
  {
   "cell_type": "markdown",
   "metadata": {},
   "source": []
  },
  {
   "cell_type": "markdown",
   "metadata": {},
   "source": []
  },
  {
   "cell_type": "markdown",
   "metadata": {},
   "source": [
    "### 1-5 How a Little Reasoning Goes a Long Way"
   ]
  },
  {
   "cell_type": "markdown",
   "metadata": {},
   "source": []
  },
  {
   "cell_type": "markdown",
   "metadata": {},
   "source": []
  },
  {
   "cell_type": "markdown",
   "metadata": {},
   "source": [
    "### 1-6 Scalars and Vectors"
   ]
  },
  {
   "cell_type": "markdown",
   "metadata": {},
   "source": []
  },
  {
   "cell_type": "markdown",
   "metadata": {},
   "source": []
  },
  {
   "cell_type": "markdown",
   "metadata": {},
   "source": [
    "### General Problems"
   ]
  },
  {
   "cell_type": "markdown",
   "metadata": {},
   "source": []
  },
  {
   "cell_type": "markdown",
   "metadata": {},
   "source": []
  },
  {
   "cell_type": "markdown",
   "metadata": {},
   "source": []
  },
  {
   "cell_type": "markdown",
   "metadata": {},
   "source": []
  },
  {
   "cell_type": "markdown",
   "metadata": {},
   "source": []
  },
  {
   "cell_type": "markdown",
   "metadata": {},
   "source": []
  },
  {
   "cell_type": "markdown",
   "metadata": {},
   "source": []
  },
  {
   "cell_type": "markdown",
   "metadata": {},
   "source": []
  },
  {
   "cell_type": "markdown",
   "metadata": {},
   "source": [
    "#### 87. \n",
    "> (III) A stretched wire has three physical attributes: the density $\\lambda$, or mass per unit length; the total length $l$; and the tension $\\tau$. The latter is related to how hard the wire is being pulled to keep it stretched and has dimensions of $[MLT^{-2}]$. Show by dimensional analysis that if the time $t_0$ of one back-and-forth vibration of the wire in a direction perpendicular to its length depends only on these three quantities, then $t_0$ has the form $t_0 = (\\text{a constant}) l\\sqrt{\\dfrac{\\lambda}{\\tau}}$.\n",
    "\n",
    "$[\\lambda]=[ML^{-1}], [l]=[L], [\\tau]=[F]=[MLT^{-2}], [t_0]=[T]$. Assume $t_0\\propto \\lambda^p l^q \\tau^r$, $[t_0]=[T]=[\\lambda]^p[l]^q[\\tau]^r=[ML^{-1}]^p[L]^q[MLT^{-2}]^r=[M]^{p+r}[L]^{-p+q+r}[T]^{-2r}$. So $\\begin{cases} p+q=0 \\\\ -p+q+r=0 \\\\ -2r=1 \\end{cases}\n",
    "\\Rightarrow \\begin{cases} p=\\dfrac{1}{2} \\\\ q=1 \\\\ r=-\\dfrac{1}{2} \\end{cases}$\n",
    "\n",
    "Thus $t_0=(\\text{a constant}) \\sqrt{\\lambda}\\,l\\dfrac{1}{\\sqrt{\\tau}}=(\\text{a constant}) l\\sqrt{\\dfrac{\\lambda}{\\tau}}$."
   ]
  }
 ],
 "metadata": {
  "interpreter": {
   "hash": "b89b5cfaba6639976dc87ff2fec6d58faec662063367e2c229c520fe71072417"
  },
  "kernelspec": {
   "display_name": "Python 3.10.2 64-bit",
   "language": "python",
   "name": "python3"
  },
  "language_info": {
   "codemirror_mode": {
    "name": "ipython",
    "version": 3
   },
   "file_extension": ".py",
   "mimetype": "text/x-python",
   "name": "python",
   "nbconvert_exporter": "python",
   "pygments_lexer": "ipython3",
   "version": "3.10.2"
  },
  "orig_nbformat": 4
 },
 "nbformat": 4,
 "nbformat_minor": 2
}
