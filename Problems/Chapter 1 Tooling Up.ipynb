{
 "cells": [
  {
   "cell_type": "markdown",
   "metadata": {},
   "source": [
    "# Chapter 1: Tooling Up"
   ]
  },
  {
   "cell_type": "markdown",
   "metadata": {},
   "source": [
    "## Problems"
   ]
  },
  {
   "cell_type": "markdown",
   "metadata": {},
   "source": [
    "### 1-1 Scientific Notation"
   ]
  },
  {
   "cell_type": "markdown",
   "metadata": {},
   "source": []
  },
  {
   "cell_type": "markdown",
   "metadata": {},
   "source": []
  },
  {
   "cell_type": "markdown",
   "metadata": {},
   "source": [
    "### 1-2 Length, Time, and Mass"
   ]
  },
  {
   "cell_type": "markdown",
   "metadata": {},
   "source": []
  },
  {
   "cell_type": "markdown",
   "metadata": {},
   "source": []
  },
  {
   "cell_type": "markdown",
   "metadata": {},
   "source": [
    "## 1-3 Accuracy and Significant Figures"
   ]
  },
  {
   "cell_type": "markdown",
   "metadata": {},
   "source": []
  },
  {
   "cell_type": "markdown",
   "metadata": {},
   "source": [
    "#### 21. \n",
    "> (III) If you want to know the area of a circle to $10$ percent accuracy, how accurately should you measure the diameter of the circle?\n",
    "\n",
    "Five points of view:  \n",
    "1. $S=\\dfrac{\\pi d^2}{4}$, so $d=2\\sqrt{\\dfrac{S}{\\pi}}$. If $\\dfrac{9}{10}S_0\\le S\\le \\dfrac{11}{10}S_0$, then $\\sqrt{\\dfrac{9}{10}}r_0\\le r\\le \\sqrt{\\dfrac{11}{10}}r_0$, which is aproximately $94.87\\%\\sim 104.88\\%$ of $r_0$. So you should measure the diameter of the circle with $5\\%$ accuracy.  \n",
    "2. (Textbook P10) *If $P_1$ and $P_2$ are the percentage uncertainties of two quantities being multiplied (or divided), the net uncertainty is $\\sqrt{P_1^2+P_2^2}$.* Here $S\\propto d^2$, so $\\sqrt{P_d^2+P_d^2}=\\sqrt{2P_d^2}=10\\%, P_d=\\dfrac{\\sqrt{2}}{20}\\approx 7\\%$.  \n",
    "3. In the textbook, just after the sentence above, it says *if $P_1$ and $P_2$ are about the same size, we can more simply get an ***approximate*** idea of the percentage uncertainty of the product by adding the percentage uncertainties.* So $P_d+P_d=2P_d=10\\%$, the uncertainty of the diameter should be less than $5\\%$.  \n",
    "4. Actually, the formulae in article 2 and 3 applies when two variables are independent of each other. Here they are the same (**not independent at all!**). The formula $P=\\sqrt{P_1^2+P_2^2}$ adds errors \"in quadrature\" assuming it is unlikely that in a single measurement both independent quantities will error in the same \"direction\" to the maximum degrees. But in our case two diameters are $100\\%$ correlated, so a better estimate is to just add: $P=P_d+P_d=2P_d=10\\%$, so $P_d=5\\%$.\n",
    "5. Consider the \"uncertainty\" in a quantity to be the *standard deviation* of the value of a group of identically prepared measurements of this quantity. Neglecting correlations or assuming independent variables yields a common formula among engineers and experimental scientists to calculate error propagation, the variance formula: $$s_{f}={\\sqrt {\\left({\\frac {\\partial f}{\\partial x}}\\right)^{2}s_{x}^{2}+\\left({\\frac {\\partial f}{\\partial y}}\\right)^{2}s_{y}^{2}+\\left({\\frac {\\partial f}{\\partial z}}\\right)^{2}s_{z}^{2}+\\cdots }}$$\n",
    "where $s_{f}$ represents the standard deviation of the function $f$, $s_{x}$ represents the standard deviation of $x$, $s_{y}$ represents the standard deviation of $y$, and so forth.  \n",
    "Then $S=\\dfrac{\\pi d^2}{4}\\Rightarrow \\dfrac{\\partial S}{\\partial d}=\\dfrac{\\pi d}{2}=\\dfrac{2S}{d}\\Rightarrow s_S=\\dfrac{2\\bar{S}}{\\bar{d}}s_d\\Rightarrow \\dfrac{s_S}{\\bar{S}}=2\\dfrac{s_d}{\\bar{d}}\\Rightarrow P_S=2P_d$, where $\\bar{d}$ is the mean value for the measurement of $d$ and $\\bar{S}=\\dfrac{\\pi \\bar{d}^2}{4}$. So $P_d=\\dfrac{P_S}{2}=5\\%$."
   ]
  },
  {
   "cell_type": "markdown",
   "metadata": {},
   "source": []
  },
  {
   "cell_type": "markdown",
   "metadata": {},
   "source": []
  }
 ],
 "metadata": {
  "language_info": {
   "name": "python"
  },
  "orig_nbformat": 4
 },
 "nbformat": 4,
 "nbformat_minor": 2
}
