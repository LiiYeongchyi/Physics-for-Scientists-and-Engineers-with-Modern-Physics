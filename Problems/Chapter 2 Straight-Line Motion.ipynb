{
 "cells": [
  {
   "cell_type": "markdown",
   "metadata": {},
   "source": [
    "# Chapter 2: Straight-Line Motion"
   ]
  },
  {
   "cell_type": "markdown",
   "metadata": {},
   "source": [
    "## Problems"
   ]
  },
  {
   "cell_type": "markdown",
   "metadata": {},
   "source": [
    "### 2-1 Displacement"
   ]
  },
  {
   "cell_type": "markdown",
   "metadata": {},
   "source": []
  },
  {
   "cell_type": "markdown",
   "metadata": {},
   "source": []
  },
  {
   "cell_type": "markdown",
   "metadata": {},
   "source": []
  },
  {
   "cell_type": "markdown",
   "metadata": {},
   "source": [
    "### 2-2 Speed and Velocity"
   ]
  },
  {
   "cell_type": "markdown",
   "metadata": {},
   "source": []
  },
  {
   "cell_type": "markdown",
   "metadata": {},
   "source": []
  },
  {
   "cell_type": "markdown",
   "metadata": {},
   "source": [
    "### 2-3 Acceleration"
   ]
  },
  {
   "cell_type": "markdown",
   "metadata": {},
   "source": []
  },
  {
   "cell_type": "markdown",
   "metadata": {},
   "source": []
  },
  {
   "cell_type": "markdown",
   "metadata": {},
   "source": [
    "### 2-4 Motion with Constant Acceleration"
   ]
  },
  {
   "cell_type": "markdown",
   "metadata": {},
   "source": []
  },
  {
   "cell_type": "markdown",
   "metadata": {},
   "source": []
  },
  {
   "cell_type": "markdown",
   "metadata": {},
   "source": [
    "### 2-5 Freely Falling Objects"
   ]
  },
  {
   "cell_type": "markdown",
   "metadata": {},
   "source": []
  },
  {
   "cell_type": "markdown",
   "metadata": {},
   "source": [
    "#### 61. \n",
    "> (II) A ball is dropped from the roof of a $25$-$\\mathrm{m}$-tall building. What is the velocity of the object when it touches the ground? Suppose that the ball is a perfect golf ball and it bounces such that lhe velocity as it leaves the ground has the same magnitude but the opposite direction as the velocity with which it reached the ground. How high will the ball bounce? Now suppose, instead, that the ball bounces back to a height of $20~\\mathrm{m}$. What was the velocity with which it left the ground?\n",
    "\n",
    "Choose coordinate system with $y$-axis pointing upward, and origin at the bottoms of the building. $y_1=25~\\mathrm{m}, g=9.8~\\mathrm{m/s^2}, v_1=-\\sqrt{2gy_1}=-22~\\mathrm{m/s}.$ If the speed does not change after bouncing, the height the ball reaches is also $25~\\mathrm{m}$; If it bounces back to $y_2=20~\\mathrm{m}$, the velocity when leaving the ground is $v_2=\\sqrt{2gy_2}=20~\\mathrm{m/s}$. "
   ]
  },
  {
   "cell_type": "markdown",
   "metadata": {},
   "source": []
  },
  {
   "cell_type": "markdown",
   "metadata": {},
   "source": [
    "### *2-6 Integration and Motion in One Dimension"
   ]
  },
  {
   "cell_type": "markdown",
   "metadata": {},
   "source": []
  },
  {
   "cell_type": "markdown",
   "metadata": {},
   "source": []
  },
  {
   "cell_type": "markdown",
   "metadata": {},
   "source": [
    "### General Problems"
   ]
  },
  {
   "cell_type": "markdown",
   "metadata": {},
   "source": []
  },
  {
   "cell_type": "markdown",
   "metadata": {},
   "source": []
  },
  {
   "cell_type": "markdown",
   "metadata": {},
   "source": []
  },
  {
   "cell_type": "markdown",
   "metadata": {},
   "source": []
  },
  {
   "cell_type": "markdown",
   "metadata": {},
   "source": []
  },
  {
   "cell_type": "markdown",
   "metadata": {},
   "source": []
  },
  {
   "cell_type": "markdown",
   "metadata": {},
   "source": [
    "#### 81. \n",
    "> (II) There are several known cases of paratroopers whose chutes did not open as they fell but who survived by falling into brush or snow or onto a steep hillside. It is possible to survive a fall when the deceleration on impact is some $500~\\mathrm{m/s^2}$, equivalent to about $50g$. What is the distance traveled within a snowbank while a paratrooper comes to a stop if the deceleration is constant with a magnitude of $50g$? The speed with which a paratrooper would enter the snowbank is about $40~\\mathrm{m/s}$. Over how much time does the paratrooper decelerate?\n",
    "\n",
    "$a=500~\\mathrm{m/s^2}, v=40~\\mathrm{m/s}$, the distance traveled $d=\\dfrac{v^2}{2a}=1.6~\\mathrm{m}$, and the time $t=\\dfrac{v}{a}=0.08~\\mathrm{s}$."
   ]
  },
  {
   "cell_type": "markdown",
   "metadata": {},
   "source": []
  }
 ],
 "metadata": {
  "language_info": {
   "name": "python"
  },
  "orig_nbformat": 4
 },
 "nbformat": 4,
 "nbformat_minor": 2
}
