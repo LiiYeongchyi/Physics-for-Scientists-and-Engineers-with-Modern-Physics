{
 "cells": [
  {
   "cell_type": "markdown",
   "id": "37a721f1",
   "metadata": {},
   "source": [
    "# Chapter 4: Newton's Laws"
   ]
  },
  {
   "cell_type": "markdown",
   "id": "b4dccf23",
   "metadata": {},
   "source": [
    "## Problems"
   ]
  },
  {
   "cell_type": "markdown",
   "id": "8ba92b86",
   "metadata": {},
   "source": [
    "### 4-1 Forces and Newton's First Law"
   ]
  },
  {
   "cell_type": "markdown",
   "id": "2de3a09a",
   "metadata": {},
   "source": [
    "#### 1. \n",
    "(a) Gravity;   \n",
    "(b) Gravity, the normal force from the ice, and a tiny friction force;   \n",
    "(c) Basically none. \n",
    "\n",
    "The **Space Shuttle** is a retired, partially reusable low Earth orbital spacecraft system operated from 1981 to 2011 by the U.S. National Aeronautics and Space Administration (NASA) as part of the Space Shuttle program. ***Buran*** (Буран) was the designation for the entire Soviet/Russian spaceplane project and its orbiters, and they are generally treated as a Soviet equivalent of the United States' Space Shuttle. "
   ]
  },
  {
   "cell_type": "markdown",
   "id": "eaa5bd5e",
   "metadata": {},
   "source": [
    "#### 2. \n",
    "Gravity, the normal force from the ice, the force of the wind on the skater, and a tiny friction force. They are very close to balance because the speed of the skater is very close to constant (deduced from Newton's laws). "
   ]
  },
  {
   "cell_type": "markdown",
   "id": "37227a69",
   "metadata": {},
   "source": [
    "#### 3. \n",
    "The converse statement of the **first law of motion**: \n",
    "> When an obiec moves with constant velocity, the net force acting on it must be zero. \n",
    "\n",
    "So the force the other team exert on the rope is $600~\\mathrm{N}$ in the $-y$-direction. "
   ]
  },
  {
   "cell_type": "markdown",
   "id": "27c44a3e",
   "metadata": {},
   "source": [
    "#### 4. \n",
    "What does this question mean?"
   ]
  },
  {
   "cell_type": "markdown",
   "id": "90694b9d",
   "metadata": {},
   "source": [
    "#### 5. \n",
    "It might work. [Der Halbkugelversuch Otto von Guerickes](https://www.oehmi.de/ueber-oehmi/halbkugelversuch)"
   ]
  },
  {
   "cell_type": "markdown",
   "id": "96d5b416",
   "metadata": {},
   "source": [
    "#### 6. \n",
    "I can not do it. The $xy$-plane is a **vector space**, which satisfies the *closure* property ($\\boldsymbol{u} + \\boldsymbol{v}$ and $a\\boldsymbol{v}$ are in $V$ for all $a$ in $F$, and $\\boldsymbol{u}$, $\\boldsymbol{v}$ in $V$). So $\\vec{F_2}+\\vec{F_3} \\notin z$-axis, and the net force cannot be $\\boldsymbol{0}$. "
   ]
  },
  {
   "cell_type": "markdown",
   "id": "8af26592",
   "metadata": {},
   "source": []
  },
  {
   "cell_type": "markdown",
   "id": "6ba14276",
   "metadata": {},
   "source": []
  },
  {
   "cell_type": "markdown",
   "id": "213dbe5b",
   "metadata": {},
   "source": []
  },
  {
   "cell_type": "markdown",
   "id": "ea2f845a",
   "metadata": {},
   "source": []
  },
  {
   "cell_type": "markdown",
   "id": "4aa42a06",
   "metadata": {},
   "source": []
  },
  {
   "cell_type": "markdown",
   "id": "d43d10e1",
   "metadata": {},
   "source": []
  },
  {
   "cell_type": "markdown",
   "id": "bf24483b",
   "metadata": {},
   "source": []
  },
  {
   "cell_type": "markdown",
   "id": "f5c396a7",
   "metadata": {},
   "source": []
  },
  {
   "cell_type": "markdown",
   "id": "965d72af",
   "metadata": {},
   "source": []
  },
  {
   "cell_type": "markdown",
   "id": "cf2aaa38",
   "metadata": {},
   "source": []
  },
  {
   "cell_type": "markdown",
   "id": "62495f13",
   "metadata": {},
   "source": []
  },
  {
   "cell_type": "markdown",
   "id": "35b5e5a5",
   "metadata": {},
   "source": []
  },
  {
   "cell_type": "markdown",
   "id": "e41ffe9c",
   "metadata": {},
   "source": []
  },
  {
   "cell_type": "markdown",
   "id": "2fe5e2cd",
   "metadata": {},
   "source": []
  },
  {
   "cell_type": "markdown",
   "id": "464b3374",
   "metadata": {},
   "source": []
  },
  {
   "cell_type": "markdown",
   "id": "a88d4967",
   "metadata": {},
   "source": []
  },
  {
   "cell_type": "markdown",
   "id": "4a1975cb",
   "metadata": {},
   "source": []
  }
 ],
 "metadata": {
  "kernelspec": {
   "display_name": "Python 3 (ipykernel)",
   "language": "python",
   "name": "python3"
  },
  "language_info": {
   "codemirror_mode": {
    "name": "ipython",
    "version": 3
   },
   "file_extension": ".py",
   "mimetype": "text/x-python",
   "name": "python",
   "nbconvert_exporter": "python",
   "pygments_lexer": "ipython3",
   "version": "3.10.2"
  }
 },
 "nbformat": 4,
 "nbformat_minor": 5
}
