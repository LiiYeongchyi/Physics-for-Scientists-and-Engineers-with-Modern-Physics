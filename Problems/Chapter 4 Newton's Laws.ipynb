{
 "cells": [
  {
   "cell_type": "markdown",
   "id": "37a721f1",
   "metadata": {},
   "source": [
    "# Chapter 4: Newton's Laws"
   ]
  },
  {
   "cell_type": "markdown",
   "id": "b4dccf23",
   "metadata": {},
   "source": [
    "## Problems"
   ]
  },
  {
   "cell_type": "markdown",
   "id": "8ba92b86",
   "metadata": {},
   "source": [
    "### 4-1 Forces and Newton's First Law"
   ]
  },
  {
   "cell_type": "markdown",
   "id": "2de3a09a",
   "metadata": {},
   "source": [
    "#### 1. \n",
    "(a) Gravity;   \n",
    "(b) Gravity, the normal force from the ice, and a tiny friction force;   \n",
    "(c) Basically none. \n",
    "\n",
    "The **Space Shuttle** is a retired, partially reusable low Earth orbital spacecraft system operated from 1981 to 2011 by the U.S. National Aeronautics and Space Administration (NASA) as part of the Space Shuttle program. ***Buran*** (Буран) was the designation for the entire Soviet/Russian spaceplane project and its orbiters, and they are generally treated as a Soviet equivalent of the United States' Space Shuttle. "
   ]
  },
  {
   "cell_type": "markdown",
   "id": "eaa5bd5e",
   "metadata": {},
   "source": [
    "#### 2. \n",
    "Gravity, the normal force from the ice, the force of the wind on the skater, and a tiny friction force. They are very close to balance because the speed of the skater is very close to constant (deduced from Newton's laws). "
   ]
  },
  {
   "cell_type": "markdown",
   "id": "37227a69",
   "metadata": {},
   "source": [
    "#### 3. \n",
    "The converse statement of the **first law of motion**: \n",
    "> When an obiec moves with constant velocity, the net force acting on it must be zero. \n",
    "\n",
    "So the force the other team exert on the rope is $600~\\mathrm{N}$ in the $-y$-direction. "
   ]
  },
  {
   "cell_type": "markdown",
   "id": "27c44a3e",
   "metadata": {},
   "source": [
    "#### 4. \n",
    "What does this question mean?"
   ]
  },
  {
   "cell_type": "markdown",
   "id": "90694b9d",
   "metadata": {},
   "source": [
    "#### 5. \n",
    "It might work. [Der Halbkugelversuch Otto von Guerickes](https://www.oehmi.de/ueber-oehmi/halbkugelversuch)"
   ]
  },
  {
   "cell_type": "markdown",
   "id": "96d5b416",
   "metadata": {},
   "source": [
    "#### 6. \n",
    "I can not do it. The $xy$-plane is a **vector space**, which satisfies the *closure* property ($\\boldsymbol{u} + \\boldsymbol{v}$ and $a\\boldsymbol{v}$ are in $V$ for all $a$ in $F$, and $\\boldsymbol{u}$, $\\boldsymbol{v}$ in $V$). So $\\vec{F}_2+\\vec{F}_3 \\notin z$-axis, and the net force cannot be $\\boldsymbol{0}$. "
   ]
  },
  {
   "cell_type": "markdown",
   "id": "8af26592",
   "metadata": {},
   "source": [
    "#### 7. \n",
    "(a) The magnitude of the tension is $3.0\\times 10^{-4}~\\mathrm{N}$ (by Law 1);   \n",
    "(b) Both of them have a magnitude of $3.0\\times 10^{-4}~\\mathrm{N}$ (see [Chapter 1 Understanding of Concepts 8.](https://nbviewer.org/github/LiiYeongchyi/Physics-for-Scientists-and-Engineers-with-Modern-Physics/blob/main/Understanding%20the%20Concepts/Chapter%201%20Tooling%20Up.ipynb#8.)). "
   ]
  },
  {
   "cell_type": "markdown",
   "id": "6ba14276",
   "metadata": {},
   "source": [
    "#### 8. \n",
    "It can be seen from the symmetry. "
   ]
  },
  {
   "cell_type": "markdown",
   "id": "213dbe5b",
   "metadata": {},
   "source": [
    "#### 9. \n",
    "(a) Due to a retarding force.   \n",
    "(b) The car moves backward and the speed increases to $-\\vec{v}_0$. She would think that the driver is training driving skills. "
   ]
  },
  {
   "cell_type": "markdown",
   "id": "ea2f845a",
   "metadata": {},
   "source": [
    "#### 10. \n",
    "The acceleration $g=\\dfrac{1.5~\\mathrm{N}}{0.15~\\mathrm{kg}}=10~\\mathrm{m\\cdot s^{-2}}$. The force of gravity on the SUV is $F=mg=25~000~\\mathrm{N}$."
   ]
  },
  {
   "cell_type": "markdown",
   "id": "4aa42a06",
   "metadata": {},
   "source": [
    "#### 11. \n",
    "$\\vec{F}_{21}=-\\vec{F}_{12}$ (by Law 3); $\\vec{a}_{21}=-3\\vec{a}_{12}$ (by Law 2). This is a sketch drawn with $\\mathrm{Ti}k\\mathrm{Z}$:   \n",
    "```latex\n",
    "\\documentclass[border=3pt,tikz]{standalone}\n",
    "\\usepackage{tikz}\n",
    "\\tikzset{>=latex}\n",
    "\\tikzstyle{mass}=[line width=0.6,red!30!black,fill=red!40!black!10,rounded corners=1,top color=red!40!black!20,bottom color=red!40!black!10,shading angle=20]\n",
    "\\tikzstyle{force}=[->,red!65!black,thick,line cap=round]\n",
    "\\tikzstyle{acceleration}=[->,blue!65!black,thick,line cap=round]\n",
    "\n",
    "\\begin{document}\n",
    "\\begin{tikzpicture}\n",
    "    \\def\\d{6}\n",
    "    \\def\\r{0.45}\n",
    "    \\def\\R{0.54}\n",
    "    \\def\\F{1.8}\n",
    "    \\def\\aa{2.7}\n",
    "    \\def\\ab{0.9}\n",
    "    \\coordinate (M1) at (0,1.8);\n",
    "    \\coordinate (M2) at (\\d,1.8);\n",
    "    \\coordinate (M3) at (0,0);\n",
    "    \\coordinate (M4) at (\\d,0);  \n",
    "\n",
    "    \\draw[mass] (M1) circle(\\r) node {$m_1$};\n",
    "    \\draw[mass] (M2) circle(\\R) node {$m_2$};\n",
    "    \\draw[force] (M1)++(\\r,0) --++ (\\F,0) node[anchor=70,inner sep=6] {$\\vec{F}_{21}$}; \n",
    "    \\draw[force] (M2)++(-\\R,0) --++ (-\\F,0) node[anchor=110,inner sep=6] {$\\vec{F}_{12}$}; \n",
    "    \\draw[mass] (M3) circle(\\r) node {$m_1$};\n",
    "    \\draw[mass] (M4) circle(\\R) node {$m_2$};\n",
    "    \\draw[acceleration] (M3)++(\\r,0) --++ (\\aa,0) node[anchor=70,inner sep=6] {$\\vec{a}_{21}$}; \n",
    "    \\draw[acceleration] (M4)++(-\\R,0) --++ (-\\ab,0) node[anchor=110,inner sep=6] {$\\vec{a}_{12}$}; \n",
    "\\end{tikzpicture}\n",
    "\\end{document}\n",
    "```\n",
    "\n",
    "![svg](https://raw.githubusercontent.com/LiiYeongchyi/Physics-for-Scientists-and-Engineers-with-Modern-Physics/main/images/3.svg)"
   ]
  },
  {
   "cell_type": "markdown",
   "id": "d43d10e1",
   "metadata": {},
   "source": [
    "#### 12. \n",
    "$F_g=F_L,F_E-F_D=1.9\\times 10^5~\\mathrm{N}$, so the net force is $1.9\\times 10^5~\\mathrm{N}$ forward. It is accelerating. "
   ]
  },
  {
   "cell_type": "markdown",
   "id": "bf24483b",
   "metadata": {},
   "source": []
  },
  {
   "cell_type": "markdown",
   "id": "f5c396a7",
   "metadata": {},
   "source": []
  },
  {
   "cell_type": "markdown",
   "id": "965d72af",
   "metadata": {},
   "source": []
  },
  {
   "cell_type": "markdown",
   "id": "cf2aaa38",
   "metadata": {},
   "source": []
  },
  {
   "cell_type": "markdown",
   "id": "62495f13",
   "metadata": {},
   "source": []
  },
  {
   "cell_type": "markdown",
   "id": "35b5e5a5",
   "metadata": {},
   "source": []
  },
  {
   "cell_type": "markdown",
   "id": "e41ffe9c",
   "metadata": {},
   "source": []
  },
  {
   "cell_type": "markdown",
   "id": "2fe5e2cd",
   "metadata": {},
   "source": []
  },
  {
   "cell_type": "markdown",
   "id": "464b3374",
   "metadata": {},
   "source": []
  },
  {
   "cell_type": "markdown",
   "id": "a88d4967",
   "metadata": {},
   "source": []
  },
  {
   "cell_type": "markdown",
   "id": "4a1975cb",
   "metadata": {},
   "source": []
  }
 ],
 "metadata": {
  "kernelspec": {
   "display_name": "Python 3 (ipykernel)",
   "language": "python",
   "name": "python3"
  },
  "language_info": {
   "codemirror_mode": {
    "name": "ipython",
    "version": 3
   },
   "file_extension": ".py",
   "mimetype": "text/x-python",
   "name": "python",
   "nbconvert_exporter": "python",
   "pygments_lexer": "ipython3",
   "version": "3.10.2"
  }
 },
 "nbformat": 4,
 "nbformat_minor": 5
}
