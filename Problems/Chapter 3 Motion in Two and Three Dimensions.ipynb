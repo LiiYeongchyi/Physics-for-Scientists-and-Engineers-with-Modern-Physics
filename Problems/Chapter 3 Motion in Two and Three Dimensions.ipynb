{
 "cells": [
  {
   "cell_type": "markdown",
   "id": "3c06e931",
   "metadata": {},
   "source": [
    "# Chapter 3: Motion in Two and Three Dimensions"
   ]
  },
  {
   "cell_type": "markdown",
   "id": "02693edb",
   "metadata": {},
   "source": [
    "## Problems"
   ]
  },
  {
   "cell_type": "markdown",
   "id": "588a600f",
   "metadata": {},
   "source": [
    "### 3-1 Position and Displacement"
   ]
  },
  {
   "cell_type": "markdown",
   "id": "52e11756",
   "metadata": {},
   "source": [
    "#### 1. \n"
   ]
  },
  {
   "cell_type": "markdown",
   "id": "73fcfb79",
   "metadata": {},
   "source": []
  },
  {
   "cell_type": "markdown",
   "id": "79df5b54",
   "metadata": {},
   "source": []
  },
  {
   "cell_type": "markdown",
   "id": "d99a7665",
   "metadata": {},
   "source": [
    "### 3-2 Velocity and Acceleration"
   ]
  },
  {
   "cell_type": "markdown",
   "id": "8807cc2b",
   "metadata": {},
   "source": []
  },
  {
   "cell_type": "markdown",
   "id": "b9c5a813",
   "metadata": {},
   "source": []
  },
  {
   "cell_type": "markdown",
   "id": "87033d8c",
   "metadata": {},
   "source": [
    "### 3-3 Motion with Constant Acceleration"
   ]
  },
  {
   "cell_type": "markdown",
   "id": "5b2e7f96",
   "metadata": {},
   "source": []
  },
  {
   "cell_type": "markdown",
   "id": "a9fbd634",
   "metadata": {},
   "source": []
  },
  {
   "cell_type": "markdown",
   "id": "ddd7cc51",
   "metadata": {},
   "source": [
    "### 3-4 Projectile Motion"
   ]
  },
  {
   "cell_type": "markdown",
   "id": "2405803e",
   "metadata": {},
   "source": []
  },
  {
   "cell_type": "markdown",
   "id": "4a681539",
   "metadata": {},
   "source": [
    "#### 43. \n",
    "> (II) In the Battle of Hastings in A.D. 1066, during which the Normans of France defeated the Saxons in England, an important role was played by Norman archers who shot arrows over a wall of shields erected by the Saxons. If the Norman bows had a maximum range of $350~\\mathrm{m}$ and the arrows were shot at an elevation of $55^\\circ$, how close were the Normans to the Saxons? Assume that the arrows reached their target.\n",
    "\n",
    "*Preview*: The formula of **range** $R$ is $R=v_x t=v_0\\cos \\theta \\dfrac{2v_0\\sin \\theta}{g}=\\dfrac{v_0^2}{g}2\\sin\\theta\\cos\\theta=\\dfrac{v_0^2}{g}\\sin 2\\theta$. So when the elevation angle $\\theta=\\dfrac{\\pi}{4}$, the range achieves a maximum value of $R_{\\mathrm{max}}=\\dfrac{v_0^2}{g}$. The range formula can be written as $R=R_{\\mathrm{max}}\\sin2\\theta$.  \n",
    "\n",
    "So when the elevation is $\\theta=55^\\circ$, the range $R=R_{\\mathrm{max}}\\sin 110^\\circ=329~\\mathrm{m}$. "
   ]
  },
  {
   "cell_type": "markdown",
   "id": "52787403",
   "metadata": {},
   "source": []
  },
  {
   "cell_type": "markdown",
   "id": "2819542e",
   "metadata": {},
   "source": [
    "### 3-5 Circular Motion"
   ]
  },
  {
   "cell_type": "markdown",
   "id": "9d91cc2d",
   "metadata": {},
   "source": []
  },
  {
   "cell_type": "markdown",
   "id": "d758b7da",
   "metadata": {},
   "source": []
  },
  {
   "cell_type": "markdown",
   "id": "3fb80afe",
   "metadata": {},
   "source": [
    "### 3-6 Relative Motion"
   ]
  },
  {
   "cell_type": "markdown",
   "id": "f0dd17bd",
   "metadata": {},
   "source": []
  },
  {
   "cell_type": "markdown",
   "id": "f3e65d6e",
   "metadata": {},
   "source": []
  },
  {
   "cell_type": "markdown",
   "id": "698c4aa0",
   "metadata": {},
   "source": [
    "#### 69. \n",
    "> (III) Earth has a radius of $6.4\\times 10^6~\\mathrm{m}$, and its orbit around the Sun has a radius of some $1.5\\times 10^{11}~\\mathrm{m}$. Earth simultaneously rotates about its own axis and moves around the Sun. Assume a circular orbit and that Earth's axis of rotation is perpendicular to its orbital plane. (a) What is the speed with respect to the Sun of the point on Earth's equator nearest the Sun? (b) Of the point on Earth's equator farthest from the Sun? (c) Of the two points on Earth's equator, midway between the points in parts (a) and (b)?\n",
    "\n",
    "Earth's orbital speed around the sun: $v_1=\\dfrac{2\\pi R_{\\mathrm{orbit}}}{T_{\\mathrm{year}}}=3.0\\times 10^4~\\mathrm{m/s}$;\n",
    "\n",
    "Earth's rotation speed: $v_2=\\dfrac{2\\pi R_{\\mathrm{earth}}}{T_{\\mathrm{day}}}=470~\\mathrm{m/s}$.\n",
    "\n",
    "(a) $v_{\\mathrm{a}}=v_1-v_2=2.94\\times 10^4~\\mathrm{m/s}$;  \n",
    "(b) $v_{\\mathrm{b}}=v_1+v_2=3.03\\times 10^4~\\mathrm{m/s}$;  \n",
    "(c) $v_{\\mathrm{c}}=\\sqrt{v_1^2+v_2^2}=2.99\\times 10^4~\\mathrm{m/s}$.\n"
   ]
  },
  {
   "cell_type": "markdown",
   "id": "55dc4739",
   "metadata": {},
   "source": [
    "### General Problems"
   ]
  },
  {
   "cell_type": "markdown",
   "id": "3a42d409",
   "metadata": {},
   "source": []
  },
  {
   "cell_type": "markdown",
   "id": "cf684c6f",
   "metadata": {},
   "source": [
    "#### 77. \n",
    "> (III) A juggler is able to handle four balls simultaneously. He takes $0.3~\\mathrm{s}$ to cycle each ball through his hands, throw the ball, and be ready to catch the next ball. (a) With what velocity must he throw each ball vertically? (b) What is the position of the other three balls when he has just caught one of the balls? (c) How high must he throw the balls if he is to juggle five balls? \n",
    "\n",
    "The juggler handles four balls at the same time, so each ball remain in the air for $1.2~\\mathrm{s}$ in a cycle. One ball must be in the air for $1.2~\\mathrm{s}-0.3~\\mathrm{s}=0.9~\\mathrm{s}$ in a cycle. \n",
    "\n",
    "(a) From throw to fall, $0=v_0t+\\dfrac{1}{2}gt^2, v_0=\\dfrac{gt}{2}=\\dfrac{(9.8~\\mathrm{m/s^2})(0.9~\\mathrm{s})}{2}=4.4~\\mathrm{m/s}$;  \n",
    "(b) One ball is thrown just as another is caught, so $y=0$ for two balls; another is $0.3~\\mathrm{s}$ into the cycle: $y=v_0t+\\dfrac{1}{2}gt^2=0.88~\\mathrm{m}$ (up); the last one is $0.6~\\mathrm{s}$ into the cycle: $y=v_0t+\\dfrac{1}{2}gt^2=0.88~\\mathrm{m}$ (down);  \n",
    "(c) Now the ball moves in a time of $(5-1)\\times 0.3~\\mathrm{s}=1.2~~\\mathrm{s}$ in the air. When this time interval passes one half, the ball arrives the highest point. The height $y=\\dfrac{1}{2}gt=1.76~\\mathrm{m}$. "
   ]
  },
  {
   "cell_type": "markdown",
   "id": "6a26e70c",
   "metadata": {},
   "source": [
    "#### 78. \n",
    "> (III) A cannon can project a cannonball from its barrel with a certain muzzle speed $v_0$. Ignoring the effects of air resistance, what formula expresses the distance the cannonball travels before it reaches the ground as a function of the angle $\\theta$ that the barrel makes with the ground? Unlike the projectile treated in Section 3-4, the cannonball is fired from the edge of a cliff of height $h_0$ above the level plain at which it is aimed. Show that the angle $\\theta$ that gives the largest horizontal range is given by $\\sin^2\\theta = \\dfrac{v_0^2}{2(v_0^2 + gh_0)}$. [*Hint*: In calculus, you learn that a function of a variable such as $\\theta$ has a maximum (or minimum) at an angle $\\theta$ , the angle for which the derivative of the function with respect to $\\theta$ is zero.]\n",
    "\n",
    "**Method 1: Brute Force**\n",
    "\n",
    "$v_x=v_0\\cos \\theta, v_y=v_0\\sin \\theta$; the time $t$ satisfies that $v_y t-\\dfrac{1}{2}gt^2=-h_0$, so $t=\\dfrac{v_0\\sin\\theta+\\sqrt{v_0^2\\sin^2\\theta+2gh_0}}{g}$ (choose the positive solution). Then the range $R=v_x t=\\dfrac{v_0^2\\cos \\theta}{g}\\left(\\sin\\theta+\\sqrt{\\sin^2\\theta+\\dfrac{2gh_0}{v_0^2}}\\right)$. \n",
    "\n",
    "When $R$ has the maximum value, $\\left.\\dfrac{\\mathrm{d}R}{\\mathrm{d}\\theta}\\right|_{\\theta=\\theta_0}=0$. $\\dfrac{\\mathrm{d}R}{\\mathrm{d}\\theta}=-\\dfrac{v_0^2\\sin \\theta}{g}\\left(\\sin\\theta+\\sqrt{\\sin^2\\theta+\\dfrac{2gh_0}{v_0^2}}\\right)+\\dfrac{v_0^2\\cos \\theta}{g}\\left(\\cos\\theta+\\dfrac{\\sin\\theta\\cos\\theta}{\\sqrt{\\sin^2\\theta+\\dfrac{2gh_0}{v_0^2}}}\\right)$, $\\left.\\dfrac{\\mathrm{d}R}{\\mathrm{d}\\theta}\\right|_{\\theta=\\theta_0}=0\\Rightarrow \\sin^2\\theta_0+\\sin\\theta_0\\sqrt{\\sin^2\\theta+\\dfrac{2gh_0}{v_0^2}}=\\cos^2\\theta_0\\left(1+\\dfrac{\\sin\\theta}{\\sqrt{\\sin^2\\theta+\\dfrac{2gh_0}{v_0^2}}}\\right)$. \n",
    "\n",
    "Define $x=\\sin^2\\theta_0, y=\\dfrac{2gh_0}{v_0^2}$, then the equation becomes $x+\\sqrt{x(x+y)}=(1-x)(1+\\dfrac{\\sqrt{x}}{\\sqrt{x+y}}) \\Rightarrow x=\\dfrac{1}{y+2} \\Rightarrow \\sin^2\\theta_0=\\dfrac{v_0^2}{2(v_0^2 + gh_0)}$. \n",
    "\n",
    "**Method 2:**\n",
    "\n",
    "$R=v_0 t\\cos \\theta, -h_0=v_0 t\\sin \\theta -\\dfrac{1}{2}gt^2$, so $v_0^2t^2\\cos^2\\theta=R^2, v_0^2t^2\\sin^2\\theta=\\left(\\dfrac{1}{2}gt^2-h_0\\right)^2$. Add two equations: $v_0^2t^2=R^2+\\dfrac{g^2t^4}{4}+h_0^2-gh_0t^2\\Rightarrow R^2=-\\dfrac{g^2}{4}\\left(t^2-\\dfrac{2v_0^2+2gh_0}{g^2}\\right)^2+\\dfrac{v_0^4+2v_0^2gh_0}{g^2}$, so when $t=\\dfrac{\\sqrt{2v_0^2+2gh_0}}{g}$, the range achieves the maximum value $R_{\\mathrm{max}}=\\dfrac{v_0\\sqrt{v_0^2+2gh_0}}{g}$. \n",
    "\n",
    "From the second equation in the last paragraph, we find that $\\sin\\theta=\\dfrac{gt^2-2h_0}{2v_0t}=\\dfrac{v_0}{\\sqrt{2v_0^2+2gh_0}}$. So $\\sin^2\\theta_0=\\dfrac{v_0^2}{2(v_0^2 + gh_0)}$. \n"
   ]
  },
  {
   "cell_type": "markdown",
   "id": "953cf4ec",
   "metadata": {},
   "source": []
  }
 ],
 "metadata": {
  "kernelspec": {
   "display_name": "Python 3 (ipykernel)",
   "language": "python",
   "name": "python3"
  },
  "language_info": {
   "codemirror_mode": {
    "name": "ipython",
    "version": 3
   },
   "file_extension": ".py",
   "mimetype": "text/x-python",
   "name": "python",
   "nbconvert_exporter": "python",
   "pygments_lexer": "ipython3",
   "version": "3.10.2"
  }
 },
 "nbformat": 4,
 "nbformat_minor": 5
}
