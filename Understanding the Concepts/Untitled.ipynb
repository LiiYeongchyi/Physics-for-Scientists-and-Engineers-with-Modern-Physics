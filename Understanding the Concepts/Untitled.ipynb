{
 "cells": [
  {
   "cell_type": "markdown",
   "id": "585ef0ed",
   "metadata": {},
   "source": [
    "|Variant|(grams)|(grains)|\n",
    "|:---|---:|---:|\n",
    "|International avoirdupois ounce|28.349523125|437.5|\n",
    "|International troy ounce (and Apothecaries' ounce)|31.1034768|480|\n",
    "|Maria Theresa ounce|28.0668||\n",
    "|Spanish ounce (*onza*)|28.75||\n",
    "|French ounce (*once*)|30.59||\n",
    "|Portuguese ounce (*onça*)|28.69||\n",
    "|Roman/Italian ounce (*oncia*)|27.4||\n",
    "|Dutch metric ounce (*ons*)|100||\n",
    "|Dutch (pre-metric) ounce (*ons*)|ca. 30||\n",
    "|Chinese metric ounce (盎司)|50||\n",
    "|English Tower Ounce|29.16|450|"
   ]
  },
  {
   "cell_type": "code",
   "execution_count": null,
   "id": "abb7fbe6",
   "metadata": {},
   "outputs": [],
   "source": []
  }
 ],
 "metadata": {
  "kernelspec": {
   "display_name": "Python 3 (ipykernel)",
   "language": "python",
   "name": "python3"
  },
  "language_info": {
   "codemirror_mode": {
    "name": "ipython",
    "version": 3
   },
   "file_extension": ".py",
   "mimetype": "text/x-python",
   "name": "python",
   "nbconvert_exporter": "python",
   "pygments_lexer": "ipython3",
   "version": "3.10.2"
  }
 },
 "nbformat": 4,
 "nbformat_minor": 5
}
