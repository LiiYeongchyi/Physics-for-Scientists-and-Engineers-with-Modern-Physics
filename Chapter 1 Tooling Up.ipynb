{
 "cells": [
  {
   "cell_type": "markdown",
   "id": "16ba21c1",
   "metadata": {},
   "source": [
    "# Chapter 1: Tooling Up"
   ]
  },
  {
   "cell_type": "markdown",
   "id": "45c22b28",
   "metadata": {},
   "source": [
    "## Understanding the Concepts"
   ]
  },
  {
   "cell_type": "markdown",
   "id": "ec8aa976",
   "metadata": {},
   "source": [
    "### 1. \n",
    "Of course yes. A 2D creature might describe displacement as a vector with two components, thinking that the concept of \"height\" is elusive. The four-dimensional displacement vector can be expressed as $\\vec{v}=\\begin{bmatrix} v_x \\\\ v_y \\\\ v_z \\\\ v_w \\end{bmatrix}$, and the dimension may have nothing to do with the rules of the operation."
   ]
  },
  {
   "cell_type": "markdown",
   "id": "42a26bb0",
   "metadata": {},
   "source": [
    "### 2. \n",
    "Inches, feet, yards and miles are imperial units. The **imperial system of units** is the system of units first defined in the British Weights and Measures Act 1824 and continued to be developed through a series of Weights and Measures Acts and amendments. Imperial units are not as convenient as metric units for several reasons:\n",
    "1. Imperial units are **customary units**. Even if it is the same physical quantity, it is customary for people to give different units according to the different things being measured, which leads to the fact that there is no simple conversion relationship between the imperial units under the same physical quantity, and the conversion is much more complicated than the internal conversion of units under the International System of Units. E.g. $$1~\\mathrm{ft}=12~\\mathrm{in}, 1~\\mathrm{yd}=3~\\mathrm{ft},1~\\mathrm{mi}=1760~\\mathrm{yd}\\ldots$$ In contrast, conversions within the SI Units are all decimal, , which is convenient to use.\n",
    "2. Some imperial units of the same name have different values when measuring different objects, and problems can occur if not careful. For example, three different versions of *gallon* are in current use: the imperial gallon (imp gal), the US gallon (US gal) and the US dry gallon (\"usdrygal\"); historically, in different parts of the world, at different points in time, and for different applications, the ounce (or its translation) has referred to broadly similar but still slightly different standards of mass (see [Wikipedia](https://en.wikipedia.org/wiki/Ounce)):\n",
    "|Variant|(grams)|(grains)|\n",
    "|:---|---:|---:|\n",
    "|International avoirdupois ounce|28.349523125|437.5|\n",
    "|International troy ounce (and Apothecaries' ounce)|31.1034768|480|\n",
    "|Maria Theresa ounce|28.0668||\n",
    "|Spanish ounce (*onza*)|28.75||\n",
    "|French ounce (*once*)|30.59||\n",
    "|Portuguese ounce (*onça*)|28.69||\n",
    "|Roman/Italian ounce (*oncia*)|27.4||\n",
    "|Dutch metric ounce (*ons*)|100||\n",
    "|Dutch (pre-metric) ounce (*ons*)|ca. 30||\n",
    "|Chinese metric ounce (盎司)|50||\n",
    "|English Tower Ounce|29.16|450|\n",
    "\n",
    "\n",
    "3. Today's imperial units are linked to the International System of Units, otherwise the imperial units cannot be accurately defined. \n",
    "\n",
    "In the 1960s a metrication program was initiated in most English-speaking countries, resulting in either the partial or total displacement of the imperial system or the US customary system of measure in those countries. The current status of imperial and US customary units, as summarised by NIST, is that \"the SI metric system is now the official system of units in the United Kingdom, while the customary units are still predominantly used in the United States\". This chart shows countries which still (officially) use the imperial system. \n",
    "![map](https://cdn.statcdn.com/Infographic/images/normal/18300.jpeg)"
   ]
  },
  {
   "cell_type": "markdown",
   "id": "c967450a",
   "metadata": {},
   "source": [
    "### 3.\n",
    "The textbook writer said: \"Mine is $180~\\mathrm{cm}$, or $1.80~\\mathrm{m}$.\" As for me, I wanna keep it a secret. "
   ]
  },
  {
   "cell_type": "markdown",
   "id": "a24b9d66",
   "metadata": {},
   "source": [
    "### 4.\n",
    "The writer did not disclose this time, and neither will I. But [the site](https://www.serialupdates.me/joe-biden-us-new-president-real-name-wiki-height-weight-age-wife/) says Joe Biden is $68~\\mathrm{kg}$."
   ]
  },
  {
   "cell_type": "markdown",
   "id": "3fd1ff7f",
   "metadata": {},
   "source": [
    "### 5. \n",
    "In a nutshell: they are *dimensionless*. \n",
    "\n",
    "The [SI Brochure](https://www.bipm.org/en/publications/si-brochure) states:\n",
    "> ### (2.3.3 Dimensions of quantities)\n",
    ">\n",
    "> The unit one is the neutral element of any system of units – necessary and present automatically. There is no requirement to introduce it formally by decision. Therefore, a formal traceability to the SI can be established through appropriate, validated measurement procedures.\n",
    ">\n",
    "> Plane and solid angles, when expressed in radians and steradians respectively, are in effect also treated within the SI as quantities with the unit one (see section 5.4.8). The symbols rad and sr are written explicitly where appropriate, in order to emphasize that, for radians or steradians, the quantity being considered is, or involves the plane angle or solid angle respectively. For steradians it emphasizes the distinction between units of flux and intensity in radiometry and photometry for example. However, it is a long-established practice in mathematics and across all areas of science to make use of $\\mathrm{rad} = 1$ and $\\mathrm{sr} = 1$. For historical reasons the radian and steradian are treated as derived units, as described in section 2.3.4. \n",
    ">\n",
    "> It is especially important to have a clear description of any quantity with unit one (see section 5.4.7) that is expressed as a ratio of quantities of the same kind (for example length ratios or amount fractions) or as a count (for example number of photons or decays).\n",
    ">\n",
    "> ### (5.4.8 Plane angles, solid angles and phase angles)\n",
    ">\n",
    "> When the SI was adopted by the 11th CGPM in 1960, a category of “supplementary units” was created to accommodate the radian and steradian. Decades later, The CGPM decided: (1) “to interpret the supplementary units in the SI, namely the radian and the steradian, as dimensionless derived units, the names and symbols of which may, but need not, be used in expressions for other SI derived units, as is convenient”, and (2) to eliminate the separate class of supplementary units (Resolution 8 of the 20th CGPM (1995)).\n",
    "\n",
    "And in JCGM 200 – International vocabulary of metrology – Basic and general concepts and associated terms ([VIM](https://www.iso.org/sites/JCGM/VIM/JCGM_200e_FILES/MAIN_JCGM_200e/01_e.html#L_1_8)) (ISO/IEC Guide 99): \n",
    "> **1.8** (1.6) \n",
    "> \n",
    "> **quantity of dimension one** \n",
    ">\n",
    "> dimensionless quantity\n",
    "> \n",
    "> quantity for which all the exponents of the factors corresponding to the base quantities in its quantity dimension are zero\n",
    ">\n",
    "> - NOTE 1   The term “dimensionless quantity” is commonly used and is kept here for historical reasons. It stems from the fact that all exponents are zero in the symbolic representation of the dimension for such quantities. The term “quantity of dimension one” reflects the convention in which the symbolic representation of the dimension for such quantities is the symbol 1 (see ISO 31‑0:1992, 2.2.6).\n",
    "> \n",
    "> \n",
    "> - NOTE 2   The measurement units and values of quantities of dimension one are numbers, but such quantities convey more information than a number.\n",
    "> \n",
    "> \n",
    "> - NOTE 3   Some quantities of dimension one are defined as the ratios of two quantities of the same kind.\n",
    ">\n",
    ">     EXAMPLES   Plane angle, solid angle, refractive index, relative permeability, mass fraction, friction factor, Mach number.\n",
    "> \n",
    ">\n",
    "> - NOTE 4   Numbers of entities are quantities of dimension one.\n",
    "> \n",
    ">     EXAMPLES    Number of turns in a coil, number of molecules in a given sample, degeneracy of the energy levels of a quantum system.\n",
    "> "
   ]
  },
  {
   "cell_type": "markdown",
   "id": "69d83f4a",
   "metadata": {},
   "source": [
    "### 6.\n",
    "Obviously not. The human body has uneven pulses and is susceptible to changing conditions; the time period of a pendulum depends on the length of the pendulum and the acceleration of gravity $g$ ($T=2\\pi\\sqrt{\\dfrac{l}{g}}$), but $g$ varies from place to place, due to the rotation of the earth and the distance from the center of the earth. So they cannot be used as standard time units. \n",
    "\n",
    "The second, symbol $\\mathrm{s}$, is the SI unit of time. It is [defined](https://www.bipm.org/en/publications/si-brochure) by taking the fixed numerical value of the caesium frequency, $\\Delta\\nu_{\\mathrm{Cs}}$, the unperturbed ground-state hyperfine transition frequency of the caesium 133 atom, to be $9~192~631~770$ when expressed in the unit $\\mathrm{Hz}$, which is equal to $\\mathrm{s}^{−1}$."
   ]
  },
  {
   "cell_type": "markdown",
   "id": "5dfd6273",
   "metadata": {},
   "source": [
    "### 7.\n",
    "The metre, symbol $\\mathrm{m}$, is the SI unit of length. It is [defined](https://www.bipm.org/en/publications/si-brochure) by taking the fixed \n",
    "numerical value of the speed of light in vacuum, $c$, to be $299~792~458$ when expressed in the unit $m\\cdot s^{−1}$, where the second is defined in terms of the caesium frequency $\\Delta\\nu_{\\mathrm{Cs}}$.\n",
    "\n",
    "This definition implies the exact relation $c = 299~792~458~\\mathrm{m\\cdot s^{−1}}$. Inverting this relation gives an exact expression for the metre in terms of the defining constants $c$ and $\\Delta\\nu_{\\mathrm{Cs}}$: $$1~\\mathrm{m} = \\left(\\frac{c}{299~792~458}\\right)~\\mathrm{s} = \\frac{9~192~631~770}{299~792~458}\\frac{c}{\\Delta\\nu_{\\mathrm{Cs}}}\\approx 30.663~319\\frac{c}{\\Delta\\nu_{\\mathrm{Cs}}}.$$\n",
    "\n",
    "The effect of this definition is that one metre is the length of the path travelled by light in vacuum during a time interval with duration of $1/299~792~458$ of a second."
   ]
  },
  {
   "cell_type": "markdown",
   "id": "c821e24c",
   "metadata": {},
   "source": [
    "### 8.\n",
    "It is possible.\n",
    "1. If three vectors are all null vectors, then their sum is also $\\boldsymbol{0}$. \n",
    "2. If the three vectors are coplanar and the angle between each pair is $\\dfrac{2\\pi}{3}$, then they add up to $\\boldsymbol{0}$. "
   ]
  },
  {
   "cell_type": "code",
   "execution_count": null,
   "id": "e4935a86",
   "metadata": {},
   "outputs": [],
   "source": []
  },
  {
   "cell_type": "code",
   "execution_count": null,
   "id": "3a85e1ca",
   "metadata": {},
   "outputs": [],
   "source": []
  },
  {
   "cell_type": "code",
   "execution_count": null,
   "id": "da51a635",
   "metadata": {},
   "outputs": [],
   "source": []
  },
  {
   "cell_type": "code",
   "execution_count": null,
   "id": "39b2167e",
   "metadata": {},
   "outputs": [],
   "source": []
  }
 ],
 "metadata": {
  "kernelspec": {
   "display_name": "Python 3 (ipykernel)",
   "language": "python",
   "name": "python3"
  },
  "language_info": {
   "codemirror_mode": {
    "name": "ipython",
    "version": 3
   },
   "file_extension": ".py",
   "mimetype": "text/x-python",
   "name": "python",
   "nbconvert_exporter": "python",
   "pygments_lexer": "ipython3",
   "version": "3.10.2"
  }
 },
 "nbformat": 4,
 "nbformat_minor": 5
}
